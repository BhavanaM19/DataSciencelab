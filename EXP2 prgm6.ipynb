{
  "nbformat": 4,
  "nbformat_minor": 0,
  "metadata": {
    "colab": {
      "provenance": [],
      "authorship_tag": "ABX9TyMmDoujPJbUOYefsm0zDK6H",
      "include_colab_link": true
    },
    "kernelspec": {
      "name": "python3",
      "display_name": "Python 3"
    },
    "language_info": {
      "name": "python"
    }
  },
  "cells": [
    {
      "cell_type": "markdown",
      "metadata": {
        "id": "view-in-github",
        "colab_type": "text"
      },
      "source": [
        "<a href=\"https://colab.research.google.com/github/BhavanaM19/DataSciencelab/blob/main/Untitled1.ipynb\" target=\"_parent\"><img src=\"https://colab.research.google.com/assets/colab-badge.svg\" alt=\"Open In Colab\"/></a>"
      ]
    },
    {
      "cell_type": "code",
      "execution_count": 2,
      "metadata": {
        "colab": {
          "base_uri": "https://localhost:8080/"
        },
        "id": "RXwfFXzCNhP3",
        "outputId": "5406d972-c11a-45c1-f6a2-811a9115cc48"
      },
      "outputs": [
        {
          "output_type": "stream",
          "name": "stdout",
          "text": [
            "A =  [[1 2]\n",
            " [3 4]\n",
            " [5 6]]\n",
            "(3, 2)\n",
            "U = [[-0.2298477   0.88346102  0.40824829]\n",
            " [-0.52474482  0.24078249 -0.81649658]\n",
            " [-0.81964194 -0.40189603  0.40824829]]\n",
            "(3, 3)\n",
            "s =  [9.52551809 0.51430058]\n",
            "(2,)\n",
            "VT =  [[-0.61962948 -0.78489445]\n",
            " [-0.78489445  0.61962948]]\n",
            "(2, 2)\n",
            "Reconstructed matrix:  [[1. 2.]\n",
            " [3. 4.]\n",
            " [5. 6.]]\n"
          ]
        }
      ],
      "source": [
        "from numpy import array, diag, dot, zeros\n",
        "from scipy.linalg import svd\n",
        "\n",
        "A = array([[1, 2], [3, 4], [5, 6]])\n",
        "print(\"A = \", A)\n",
        "print(A.shape)\n",
        "\n",
        "U, s, VT = svd(A)\n",
        "print(\"U =\", U)\n",
        "print(U.shape)\n",
        "print(\"s = \", s)\n",
        "print(s.shape)\n",
        "print(\"VT = \", VT)\n",
        "print(VT.shape)\n",
        "\n",
        "sigma = zeros((A.shape[0], A.shape[1]))\n",
        "sigma[:A.shape[1], :A.shape[1]] = diag(s)\n",
        "B = U.dot(sigma.dot(VT))\n",
        "print(\"Reconstructed matrix: \", B)"
      ]
    }
  ]
}
