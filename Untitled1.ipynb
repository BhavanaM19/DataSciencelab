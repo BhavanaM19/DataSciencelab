{
  "nbformat": 4,
  "nbformat_minor": 0,
  "metadata": {
    "colab": {
      "provenance": [],
      "authorship_tag": "ABX9TyNq5sIYZGVu35gmhXjPi4/e",
      "include_colab_link": true
    },
    "kernelspec": {
      "name": "python3",
      "display_name": "Python 3"
    },
    "language_info": {
      "name": "python"
    }
  },
  "cells": [
    {
      "cell_type": "markdown",
      "metadata": {
        "id": "view-in-github",
        "colab_type": "text"
      },
      "source": [
        "<a href=\"https://colab.research.google.com/github/BhavanaM19/DataSciencelab/blob/main/Untitled1.ipynb\" target=\"_parent\"><img src=\"https://colab.research.google.com/assets/colab-badge.svg\" alt=\"Open In Colab\"/></a>"
      ]
    },
    {
      "cell_type": "code",
      "execution_count": 5,
      "metadata": {
        "colab": {
          "base_uri": "https://localhost:8080/"
        },
        "id": "RXwfFXzCNhP3",
        "outputId": "7261505f-ffc7-46e5-e4df-f50ecd7cd9c4"
      },
      "outputs": [
        {
          "output_type": "stream",
          "name": "stdout",
          "text": [
            "A = [[ 1  2  3  4  5  6  7  8  9 10]\n",
            " [11 12 13 14 15 16 17 18 19 20]\n",
            " [21 22 23 24 25 26 27 28 29 30]]\n",
            " \n",
            "Transform of original matrix using svd is\n",
            "[[-18.52157747   6.47697214]\n",
            " [-49.81310011   1.91182038]\n",
            " [-81.10462276  -2.65333138]]\n",
            " \n",
            "transformed version:\n",
            "[[18.52157747  6.47697214]\n",
            " [49.81310011  1.91182038]\n",
            " [81.10462276 -2.65333138]]\n"
          ]
        }
      ],
      "source": [
        "\n",
        "from numpy import array\n",
        "from scipy.linalg import svd\n",
        "from sklearn.decomposition import TruncatedSVD\n",
        "A = array([[1, 2,3,4,5,6,7,8,9,10], [11,12,13,14,15,16,17,18,19,20], [21,22,23,24,25,26,27,28,29,30]])\n",
        "\n",
        "print(\"A =\", A)\n",
        "print(\" \")\n",
        "U, s, VT = svd(A)\n",
        "sigma = zeros((A.shape[0], A.shape[1]))\n",
        "sigma[:A.shape[0],:A.shape[0]] =diag(s)\n",
        "sigma=sigma[:,:2]\n",
        "VT=VT[:2,:]\n",
        "T=U.dot(sigma)\n",
        "T=A.dot(VT.T)\n",
        "print(\"Transform of original matrix using svd is\")\n",
        "print(T)\n",
        "print(\" \")\n",
        "svd=TruncatedSVD(2)\n",
        "svd.fit(A)\n",
        "result=svd.transform(A)\n",
        "print(\"transformed version:\")\n",
        "print(result)"
      ]
    }
  ]
}